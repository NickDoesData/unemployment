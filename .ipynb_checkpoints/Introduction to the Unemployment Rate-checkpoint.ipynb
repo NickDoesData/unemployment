{
 "cells": [
  {
   "cell_type": "markdown",
   "metadata": {
    "collapsed": true
   },
   "source": [
    "# Introduction to the Unemployment Rate"
   ]
  },
  {
   "cell_type": "markdown",
   "metadata": {},
   "source": [
    "The unemployment rate is one of the most widely reported, but rarely understood economic metrics. This series of tutorials will examine the unemployment rate, how it is reported, and will evaluate the effectiveness of the metric."
   ]
  },
  {
   "cell_type": "markdown",
   "metadata": {},
   "source": [
    "### Definitions"
   ]
  },
  {
   "cell_type": "markdown",
   "metadata": {},
   "source": [
    "Before we begin analyzing data, it is important to understand the terminology used in unemployment reporting.\n",
    "\n",
    "<b>Civilian Population:</b> Civilian noninstitutional population is defined as persons 16 years of age and older residing in the 50 states and the District of Columbia, who are not inmates of institutions (e.g., penal and mental facilities, homes for the aged), and who are not on active duty in the Armed Forces.\n",
    "\n",
    "<b>Employed Workers:</b> Individuals who did any work for pay or profit. Includes full-time and part-time employees, individuals who did at least 15 hours of unpaid work in a family-operated enterprise; and individuals who were temporarily absent from their regular jobs because of illness, vacation, bad weather, industrial dispute, or various personal reasons. \n",
    "\n",
    "<b>Unemployed Workers:</b> Individuals who do not have a job, have actively looked for work in the prior 4 weeks, and are currently available for work. Persons who were not working and were waiting to be recalled to a job from which they had been temporarily laid off are also included as unemployed. Receiving benefits from the Unemployment Insurance (UI) program has no bearing on whether a person is classified as unemployed.\n",
    "\n",
    "<b>Civilian Labor Force:</b> Individuals classified as employed or unemployed. Includes full-time students, retirees, and employment age individuals.\n",
    "\n",
    "<b>Marginally Attached Workers:</b> Individuals not in the labor force who want and are available for work, and who have looked for a job sometime in the prior 12 months, but were not counted as unemployed because they had not searched for work in the 4 weeks preceding the survey. Marginally attached workers are not classified as either employed or unemployed - they are not participating in the labor force.\n",
    "\n",
    "<b>Discouraged Workers:</b> A subsuet of marginally attached workers, discouraged workers are not currently looking for work specifically because they believed no jobs were available for them or there were none for which they would qualify. Discouraged workers are not classified as either employed or unemployed - they are not participating in the labor force."
   ]
  },
  {
   "cell_type": "markdown",
   "metadata": {},
   "source": [
    "### Pull Data from St. Louis Fed"
   ]
  },
  {
   "cell_type": "markdown",
   "metadata": {},
   "source": [
    "The St. Lous Fed (FRED) has an API that works wonderfully with Python. We'll use this to pull our data."
   ]
  },
  {
   "cell_type": "code",
   "execution_count": 33,
   "metadata": {
    "collapsed": true
   },
   "outputs": [],
   "source": [
    "from fredapi import Fred\n",
    "fred = Fred(api_key = '05871cd0f022878907be62a7f0839fae')\n",
    "import pandas as pd\n",
    "import numpy as np\n",
    "import warnings\n",
    "warnings.filterwarnings('ignore')"
   ]
  },
  {
   "cell_type": "markdown",
   "metadata": {},
   "source": [
    "The following function allows us to loop through my input file containing the various series IDs we need to examine."
   ]
  },
  {
   "cell_type": "code",
   "execution_count": 5,
   "metadata": {
    "collapsed": true
   },
   "outputs": [],
   "source": [
    "def get_fred_data(fred_id):\n",
    "    x =  fred.get_series(fred_id)\n",
    "    x.info = fred.get_series_info(fred_id)\n",
    "    return x"
   ]
  },
  {
   "cell_type": "code",
   "execution_count": 35,
   "metadata": {
    "collapsed": true
   },
   "outputs": [],
   "source": [
    "df_inputs = pd.read_csv('inputs_intro.csv')"
   ]
  },
  {
   "cell_type": "code",
   "execution_count": 36,
   "metadata": {
    "collapsed": false,
    "scrolled": true
   },
   "outputs": [],
   "source": [
    "df = pd.DataFrame()\n",
    "cols = []\n",
    "for index, row in df_inputs.iterrows():\n",
    "    cols.append(row['name'])\n",
    "    #print row['name']\n",
    "    x = get_fred_data(row['series_id'])\n",
    "    df = pd.concat([df, x], axis=1)\n",
    "\n",
    "df.columns = cols"
   ]
  },
  {
   "cell_type": "markdown",
   "metadata": {},
   "source": [
    "The following is the data which relates to our definitions."
   ]
  },
  {
   "cell_type": "code",
   "execution_count": 37,
   "metadata": {
    "collapsed": false
   },
   "outputs": [
    {
     "data": {
      "text/html": [
       "<div>\n",
       "<table border=\"1\" class=\"dataframe\">\n",
       "  <thead>\n",
       "    <tr style=\"text-align: right;\">\n",
       "      <th></th>\n",
       "      <th>population</th>\n",
       "      <th>employed_persons</th>\n",
       "      <th>unemployed_persons</th>\n",
       "      <th>civilian_labor_force</th>\n",
       "      <th>marginally_attached_workers</th>\n",
       "      <th>discouraged_workers</th>\n",
       "      <th>involuntary_part_time</th>\n",
       "      <th>lfpr</th>\n",
       "      <th>unemp</th>\n",
       "      <th>em_pop_ratio</th>\n",
       "    </tr>\n",
       "  </thead>\n",
       "  <tbody>\n",
       "    <tr>\n",
       "      <th>2016-07-01</th>\n",
       "      <td>253620</td>\n",
       "      <td>151517</td>\n",
       "      <td>7770</td>\n",
       "      <td>159287</td>\n",
       "      <td>1950</td>\n",
       "      <td>591</td>\n",
       "      <td>5940</td>\n",
       "      <td>62.8</td>\n",
       "      <td>4.9</td>\n",
       "      <td>59.7</td>\n",
       "    </tr>\n",
       "    <tr>\n",
       "      <th>2016-08-01</th>\n",
       "      <td>253854</td>\n",
       "      <td>151614</td>\n",
       "      <td>7849</td>\n",
       "      <td>159463</td>\n",
       "      <td>1713</td>\n",
       "      <td>576</td>\n",
       "      <td>6053</td>\n",
       "      <td>62.8</td>\n",
       "      <td>4.9</td>\n",
       "      <td>59.7</td>\n",
       "    </tr>\n",
       "    <tr>\n",
       "      <th>2016-09-01</th>\n",
       "      <td>254091</td>\n",
       "      <td>151968</td>\n",
       "      <td>7939</td>\n",
       "      <td>159907</td>\n",
       "      <td>1844</td>\n",
       "      <td>553</td>\n",
       "      <td>5894</td>\n",
       "      <td>62.9</td>\n",
       "      <td>5.0</td>\n",
       "      <td>59.8</td>\n",
       "    </tr>\n",
       "    <tr>\n",
       "      <th>2016-10-01</th>\n",
       "      <td>254321</td>\n",
       "      <td>151925</td>\n",
       "      <td>7787</td>\n",
       "      <td>159712</td>\n",
       "      <td>1700</td>\n",
       "      <td>487</td>\n",
       "      <td>5889</td>\n",
       "      <td>62.8</td>\n",
       "      <td>4.9</td>\n",
       "      <td>59.7</td>\n",
       "    </tr>\n",
       "    <tr>\n",
       "      <th>2016-11-01</th>\n",
       "      <td>254540</td>\n",
       "      <td>152085</td>\n",
       "      <td>7400</td>\n",
       "      <td>159486</td>\n",
       "      <td>1932</td>\n",
       "      <td>591</td>\n",
       "      <td>5669</td>\n",
       "      <td>62.7</td>\n",
       "      <td>4.6</td>\n",
       "      <td>59.7</td>\n",
       "    </tr>\n",
       "  </tbody>\n",
       "</table>\n",
       "</div>"
      ],
      "text/plain": [
       "            population  employed_persons  unemployed_persons  \\\n",
       "2016-07-01      253620            151517                7770   \n",
       "2016-08-01      253854            151614                7849   \n",
       "2016-09-01      254091            151968                7939   \n",
       "2016-10-01      254321            151925                7787   \n",
       "2016-11-01      254540            152085                7400   \n",
       "\n",
       "            civilian_labor_force  marginally_attached_workers  \\\n",
       "2016-07-01                159287                         1950   \n",
       "2016-08-01                159463                         1713   \n",
       "2016-09-01                159907                         1844   \n",
       "2016-10-01                159712                         1700   \n",
       "2016-11-01                159486                         1932   \n",
       "\n",
       "            discouraged_workers  involuntary_part_time  lfpr  unemp  \\\n",
       "2016-07-01                  591                   5940  62.8    4.9   \n",
       "2016-08-01                  576                   6053  62.8    4.9   \n",
       "2016-09-01                  553                   5894  62.9    5.0   \n",
       "2016-10-01                  487                   5889  62.8    4.9   \n",
       "2016-11-01                  591                   5669  62.7    4.6   \n",
       "\n",
       "            em_pop_ratio  \n",
       "2016-07-01          59.7  \n",
       "2016-08-01          59.7  \n",
       "2016-09-01          59.8  \n",
       "2016-10-01          59.7  \n",
       "2016-11-01          59.7  "
      ]
     },
     "execution_count": 37,
     "metadata": {},
     "output_type": "execute_result"
    }
   ],
   "source": [
    "df.tail()"
   ]
  },
  {
   "cell_type": "markdown",
   "metadata": {},
   "source": [
    "The most commonly reported unemployment ratios are:\n",
    "\n",
    "Unemployment Rate: Unemployed Workers / Civilian Labor Force\n",
    "\n",
    "Labor Force Participation Rate: Civilian Labor Force / Civilian Population \n",
    "\n",
    "Employment-Population Ratio: Employed Workers / Civilian Population\n",
    "\n",
    "Let's perform a quick check on the Bureau of Labor Statistics's Calculations:"
   ]
  },
  {
   "cell_type": "code",
   "execution_count": 45,
   "metadata": {
    "collapsed": false,
    "scrolled": true
   },
   "outputs": [
    {
     "data": {
      "text/plain": [
       "2016-07-01    4.877988\n",
       "2016-08-01    4.922145\n",
       "2016-09-01    4.964761\n",
       "2016-10-01    4.875651\n",
       "2016-11-01    4.639906\n",
       "Freq: MS, dtype: float64"
      ]
     },
     "execution_count": 45,
     "metadata": {},
     "output_type": "execute_result"
    }
   ],
   "source": [
    "unemployment_rate = df.unemployed_persons / df.civilian_labor_force * 100\n",
    "unemployment_rate.tail()"
   ]
  },
  {
   "cell_type": "code",
   "execution_count": 39,
   "metadata": {
    "collapsed": false,
    "scrolled": true
   },
   "outputs": [
    {
     "data": {
      "text/plain": [
       "2016-07-01    62.805378\n",
       "2016-08-01    62.816816\n",
       "2016-09-01    62.932965\n",
       "2016-10-01    62.799376\n",
       "2016-11-01    62.656557\n",
       "Freq: MS, dtype: float64"
      ]
     },
     "execution_count": 39,
     "metadata": {},
     "output_type": "execute_result"
    }
   ],
   "source": [
    "labor_force_participation_rate = df.civilian_labor_force / df.population * 100\n",
    "labor_force_participation_rate.tail()"
   ]
  },
  {
   "cell_type": "code",
   "execution_count": 40,
   "metadata": {
    "collapsed": false
   },
   "outputs": [
    {
     "data": {
      "text/plain": [
       "2016-07-01    59.741740\n",
       "2016-08-01    59.724881\n",
       "2016-09-01    59.808494\n",
       "2016-10-01    59.737497\n",
       "2016-11-01    59.748959\n",
       "Freq: MS, dtype: float64"
      ]
     },
     "execution_count": 40,
     "metadata": {},
     "output_type": "execute_result"
    }
   ],
   "source": [
    "employment_population_ratio = df.employed_persons / df.population * 100\n",
    "employment_population_ratio.tail()"
   ]
  },
  {
   "cell_type": "markdown",
   "metadata": {},
   "source": [
    "November of 2016 produced one of the most interesting jobs reports to date. Unemployment dropped 2.5%, the Labor Force Participation Rate dropped 1.4%, and the Employment-Population Ratio remained steady, increasing at a mere .01%. "
   ]
  },
  {
   "cell_type": "code",
   "execution_count": 34,
   "metadata": {
    "collapsed": true
   },
   "outputs": [],
   "source": [
    "import cufflinks as cf\n",
    "# Use these imports for offline development\n",
    "import plotly.offline as py\n",
    "py.init_notebook_mode() \n",
    "cf.go_offline()\n",
    "\n",
    "# Use these imports for online publishing\n",
    "#import plotly.plotly as py\n",
    "#cf.go_online()\n",
    "\n",
    "dims = (800,500)\n",
    "dims2 = (700,500)\n",
    "dims3 = (600,500)\n",
    "dims4 = (500,500)\n",
    "width = 2.5\n",
    "\n",
    "\n",
    "def order_df(df):\n",
    "    \n",
    "    n = len(df.columns)\n",
    "    new_columns = df.columns[df.ix[df.last_valid_index()].argsort()[::-1]]\n",
    "    df = df[new_columns]\n",
    "    \n",
    "    return df"
   ]
  },
  {
   "cell_type": "markdown",
   "metadata": {},
   "source": [
    "Coverage:\n",
    "\n",
    "CNN   \n",
    "The unemployment rate dropped for three main reasons. The number of jobless workers decreased, while the number of people with jobs increased. The total size of the labor force -- which includes both employed and unemployed people -- also decreased.\n",
    "Together, those three factors pushed the unemployment rate down.\n",
    "\n",
    "Fox\n",
    "More Americans are kissing the workforce goodbye – not because they’re financially secure but because they can’t find a job. A record 95 million people are sitting on the sidelines opting not to work. As a result, the labor participation rate is stuck at 62.7%, a 40-year low.\n",
    "\n",
    "Additionally, the number of part-time workers was little changed last month at 5.7 million and has tumbled by 416,000 so far this year. The U.S. Department of Labor gave this sober assessment of the situation: “These individuals, who would have preferred full-time employment, were working part time because their hours had been cut back or because they were unable to find a full-time job.”\n",
    "\n",
    "FiveThirtyEight\n",
    "The unemployment rate fell three-tenths of a point, which sounds like good news. But the government only counts people as unemployed if they are actively looking for work. Most of November’s drop was driven by people who stopped looking for work, not by people who found jobs.\n",
    "\n",
    "WSJ\n",
    "15 charts - Focus on wage and demographic impact. "
   ]
  },
  {
   "cell_type": "markdown",
   "metadata": {},
   "source": [
    "$$c = \\sqrt{a^2 + b^2}$$"
   ]
  },
  {
   "cell_type": "markdown",
   "metadata": {},
   "source": [
    "$$\\frac{\\text{# of unemployed persons}}{\\text{labor force}}$$"
   ]
  },
  {
   "cell_type": "code",
   "execution_count": null,
   "metadata": {
    "collapsed": true
   },
   "outputs": [],
   "source": []
  }
 ],
 "metadata": {
  "kernelspec": {
   "display_name": "Python 2",
   "language": "python",
   "name": "python2"
  },
  "language_info": {
   "codemirror_mode": {
    "name": "ipython",
    "version": 2
   },
   "file_extension": ".py",
   "mimetype": "text/x-python",
   "name": "python",
   "nbconvert_exporter": "python",
   "pygments_lexer": "ipython2",
   "version": "2.7.11"
  }
 },
 "nbformat": 4,
 "nbformat_minor": 0
}
